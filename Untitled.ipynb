{
 "cells": [
  {
   "cell_type": "code",
   "execution_count": 80,
   "id": "005cca44-5a11-4928-bfb8-4466b211f93f",
   "metadata": {},
   "outputs": [
    {
     "name": "stdout",
     "output_type": "stream",
     "text": [
      "None\n"
     ]
    }
   ],
   "source": [
    "def missing_number(nums: list) -> int | None:\n",
    "    if not nums:\n",
    "        return None\n",
    "\n",
    "    size = len(nums)\n",
    "    base = nums[0]\n",
    "    left = 0\n",
    "    right = size - 1\n",
    "\n",
    "    # Если последний элемент \"на своём месте\", то пропуска внутри нет\n",
    "    if nums[right] == base + right:\n",
    "        return None\n",
    "\n",
    "    # Применяем метод дихотомии (бинарного поиска)\n",
    "    while left < right:\n",
    "        # Разбиваем интервал пополам\n",
    "        index = (left + right) // 2\n",
    "\n",
    "        # Продолжаем работать в той половине, где замечено нарушение порядка\n",
    "        if nums[index] - base > index:\n",
    "            right = index\n",
    "        else:\n",
    "            left = index + 1\n",
    "            \n",
    "    return base + left\n",
    "\n",
    "nums = [1, 2, 3, 4, 5, 6, 7, 8, 9, 10, 11]\n",
    "print(missing_number(nums))\n",
    "# Вывод: 7"
   ]
  },
  {
   "cell_type": "code",
   "execution_count": null,
   "id": "05a694c8-d3a9-472d-b7da-c2087b7fdc46",
   "metadata": {},
   "outputs": [],
   "source": []
  }
 ],
 "metadata": {
  "kernelspec": {
   "display_name": "Python 3 (ipykernel)",
   "language": "python",
   "name": "python3"
  },
  "language_info": {
   "codemirror_mode": {
    "name": "ipython",
    "version": 3
   },
   "file_extension": ".py",
   "mimetype": "text/x-python",
   "name": "python",
   "nbconvert_exporter": "python",
   "pygments_lexer": "ipython3",
   "version": "3.11.2"
  }
 },
 "nbformat": 4,
 "nbformat_minor": 5
}
